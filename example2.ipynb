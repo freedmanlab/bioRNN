{
 "cells": [
  {
   "cell_type": "code",
   "execution_count": 1,
   "metadata": {},
   "outputs": [
    {
     "name": "stdout",
     "output_type": "stream",
     "text": [
      "--> Loading parameters...\n",
      "--> Parameters successfully loaded.\n",
      "\n"
     ]
    }
   ],
   "source": [
    "import tensorflow as tf\n",
    "import numpy as np\n",
    "from model import bioRNN\n",
    "from training import supervised_train_step\n",
    "from stp_stimulus import Stimulus\n",
    "import matplotlib.pyplot as plt\n",
    "from IPython.display import HTML"
   ]
  },
  {
   "cell_type": "code",
   "execution_count": 2,
   "metadata": {},
   "outputs": [],
   "source": [
    "# Choose GPU\n",
    "gpu_idx = 3\n",
    "gpus = tf.config.experimental.list_physical_devices('GPU')\n",
    "tf.config.experimental.set_visible_devices(gpus[gpu_idx], 'GPU')"
   ]
  },
  {
   "cell_type": "code",
   "execution_count": 3,
   "metadata": {},
   "outputs": [],
   "source": [
    "class NestedDMS:\n",
    "    def __init__(self, n_dirs=8, n_motion_tuned=32, n_fix_tuned=4,\n",
    "                 tuning_height=4, n_subtasks=2, stim_len=20, delay_len=20,\n",
    "                 decision_len=20, gap_len=10, batch_size=64):\n",
    "        self.__dict__.update(locals())\n",
    "        self.pref_motion_dirs = np.reshape(np.linspace(0,2*np.pi-2*np.pi/(self.n_motion_tuned), \\\n",
    "            (self.n_motion_tuned)), (self.n_motion_tuned,1))\n",
    "        self.motion_dirs = np.linspace(0,2*np.pi-2*np.pi/self.n_dirs,self.n_dirs)\n",
    "        self.trial_len = n_subtasks*(stim_len+decision_len+2*gap_len) + delay_len\n",
    "        self.input_size = self.n_motion_tuned+self.n_fix_tuned\n",
    "        self.output_size = 3\n",
    "\n",
    "    def circ_tuning(self, theta):\n",
    "        ang_dist = np.angle(np.exp(1j*theta - 1j*self.pref_motion_dirs))\n",
    "        return self.tuning_height*np.exp(-0.5*(8*ang_dist/np.pi)**2)\n",
    "\n",
    "    def generate_trial(self, batch_size=None):\n",
    "        if batch_size == None: batch_size = self.batch_size\n",
    "\n",
    "        # Prep inputs, labels\n",
    "        inputs = np.zeros([self.trial_len, batch_size, self.input_size])\n",
    "        labels = np.zeros([self.trial_len, batch_size, self.output_size])\n",
    "\n",
    "        # By default, set inputs & labels to fixate\n",
    "        inputs[:, :, -self.n_fix_tuned:] = self.tuning_height\n",
    "        labels[:,:,-1] = 1.\n",
    "\n",
    "        # Get stim, test dirs and match labels (idxed by task idx)\n",
    "        match = np.random.choice([0,1], size=[batch_size,self.n_subtasks])\n",
    "        sample_dir = np.random.choice(self.motion_dirs, size=[batch_size,self.n_subtasks])\n",
    "        test_dir = np.zeros_like(sample_dir)\n",
    "        for b in range(batch_size):\n",
    "            for s in range(self.n_subtasks):\n",
    "                this_sample_dir = sample_dir[b,s]\n",
    "                this_sample_dir_idx = np.where(self.motion_dirs == this_sample_dir)[0]\n",
    "\n",
    "                # If non-match, sample randomly from other directions\n",
    "                if match[b,s] == 0:\n",
    "                    this_test_dir = np.random.choice(np.setdiff1d(self.motion_dirs, self.motion_dirs[this_sample_dir_idx]))\n",
    "                else:\n",
    "                    this_test_dir = this_sample_dir\n",
    "                test_dir[b,s] = this_test_dir\n",
    "        subtask_labels = (sample_dir == test_dir).astype(np.int32) # (B, self.n_subtasks)\n",
    "\n",
    "        # Fill inputs with motion stimulus\n",
    "        for i in range(self.n_subtasks):\n",
    "            # Get sample, test inputs\n",
    "            sample_input = self.circ_tuning(sample_dir[:,i]).T # (B,n_motion_tuned)\n",
    "            sample_input = np.expand_dims(sample_input, axis=0) # (1,B,n_motion_tuned)\n",
    "            test_input = self.circ_tuning(test_dir[:,i]).T # (B,n_motion_tuned)\n",
    "            test_input = np.expand_dims(test_input, axis=0) # (1,B,n_motion_tuned)\n",
    "\n",
    "            # Fill sample part\n",
    "            subtask_start_t = i*(self.gap_len + self.stim_len)\n",
    "            sample_start_t = subtask_start_t + self.gap_len\n",
    "            sample_end_t = subtask_end_t = (sample_start_t + self.stim_len)\n",
    "            inputs[sample_start_t:sample_end_t, :, :self.n_motion_tuned] = sample_input\n",
    "\n",
    "            # Fill test part\n",
    "            inputs[-sample_end_t:-sample_start_t, :, :self.n_motion_tuned] = test_input\n",
    "            inputs[-sample_end_t:-sample_start_t, :, -self.n_fix_tuned:] = 0.\n",
    "            labels[-sample_end_t:-sample_start_t, :, -1] = 0.\n",
    "            for b in range(batch_size):\n",
    "                labels[-sample_end_t:-sample_start_t, b, subtask_labels[b,i]] = 1.\n",
    "\n",
    "        return inputs.astype(np.float32), labels.astype(np.float32), \\\n",
    "            sample_dir.astype(np.float32), test_dir.astype(np.float32)"
   ]
  },
  {
   "cell_type": "code",
   "execution_count": 4,
   "metadata": {},
   "outputs": [],
   "source": [
    "# Data generator\n",
    "stim = NestedDMS()\n",
    "inputs, labels, sample_dir, test_dir = stim.generate_trial()"
   ]
  },
  {
   "cell_type": "code",
   "execution_count": 5,
   "metadata": {},
   "outputs": [
    {
     "data": {
      "image/png": "[encoded data removed]",
      "text/plain": [
       "<Figure size 432x288 with 1 Axes>"
      ]
     },
     "metadata": {
      "needs_background": "light"
     },
     "output_type": "display_data"
    },
    {
     "data": {
      "image/png": "[encoded data removed]",
      "text/plain": [
       "<Figure size 432x288 with 1 Axes>"
      ]
     },
     "metadata": {
      "needs_background": "light"
     },
     "output_type": "display_data"
    }
   ],
   "source": [
    "b = np.random.randint(inputs.shape[1])\n",
    "\n",
    "# Inputs\n",
    "plt.imshow(inputs[:,b,:].T)\n",
    "plt.title('Inputs')\n",
    "plt.show()\n",
    "\n",
    "# Labels\n",
    "plt.imshow(labels[:,b,:].T, aspect=10.0)\n",
    "plt.title('Labels')\n",
    "plt.show()"
   ]
  },
  {
   "cell_type": "code",
   "execution_count": 6,
   "metadata": {},
   "outputs": [],
   "source": [
    "# Model hyper-params\n",
    "hidden_size = 512\n",
    "output_size = labels.shape[-1]\n",
    "synapse_config = 'full'\n",
    "\n",
    "# Optimization hyper-params\n",
    "learning_rate = 1e-2\n",
    "n_iterations = 3000"
   ]
  },
  {
   "cell_type": "code",
   "execution_count": 7,
   "metadata": {},
   "outputs": [],
   "source": [
    "# Define a model\n",
    "rnn = bioRNN(hidden_size, output_size, synapse_config=synapse_config)\n",
    "opt = tf.keras.optimizers.Adam(learning_rate=float(learning_rate))"
   ]
  },
  {
   "cell_type": "code",
   "execution_count": 8,
   "metadata": {},
   "outputs": [
    {
     "name": "stdout",
     "output_type": "stream",
     "text": [
      "\n",
      "=== TRAINING === \n",
      "\n",
      "Iter: 0 | Loss: 3.64 | Acc: 0.66 | Fixation Acc: 0.92 | Decision Acc: 0.0\n",
      "Iter: 100 | Loss: 0.22 | Acc: 0.85 | Fixation Acc: 1.0 | Decision Acc: 0.49\n",
      "Iter: 200 | Loss: 0.21 | Acc: 0.85 | Fixation Acc: 1.0 | Decision Acc: 0.49\n",
      "Iter: 300 | Loss: 0.21 | Acc: 0.85 | Fixation Acc: 1.0 | Decision Acc: 0.48\n",
      "Iter: 400 | Loss: 0.2 | Acc: 0.86 | Fixation Acc: 1.0 | Decision Acc: 0.52\n",
      "Iter: 500 | Loss: 0.2 | Acc: 0.85 | Fixation Acc: 1.0 | Decision Acc: 0.47\n",
      "Iter: 600 | Loss: 0.18 | Acc: 0.89 | Fixation Acc: 1.0 | Decision Acc: 0.61\n",
      "Iter: 700 | Loss: 0.18 | Acc: 0.91 | Fixation Acc: 1.0 | Decision Acc: 0.68\n",
      "Iter: 800 | Loss: 0.15 | Acc: 0.93 | Fixation Acc: 1.0 | Decision Acc: 0.74\n",
      "Iter: 900 | Loss: 0.13 | Acc: 0.95 | Fixation Acc: 1.0 | Decision Acc: 0.82\n",
      "Iter: 1000 | Loss: 0.14 | Acc: 0.94 | Fixation Acc: 1.0 | Decision Acc: 0.8\n",
      "Iter: 1100 | Loss: 0.13 | Acc: 0.95 | Fixation Acc: 1.0 | Decision Acc: 0.83\n",
      "Iter: 1200 | Loss: 0.11 | Acc: 0.96 | Fixation Acc: 1.0 | Decision Acc: 0.85\n",
      "Iter: 1300 | Loss: 0.13 | Acc: 0.94 | Fixation Acc: 1.0 | Decision Acc: 0.8\n",
      "Iter: 1400 | Loss: 0.08 | Acc: 0.97 | Fixation Acc: 1.0 | Decision Acc: 0.89\n",
      "Iter: 1500 | Loss: 0.09 | Acc: 0.97 | Fixation Acc: 1.0 | Decision Acc: 0.88\n",
      "Iter: 1600 | Loss: 0.08 | Acc: 0.97 | Fixation Acc: 1.0 | Decision Acc: 0.88\n",
      "Iter: 1700 | Loss: 0.1 | Acc: 0.96 | Fixation Acc: 1.0 | Decision Acc: 0.84\n",
      "Iter: 1800 | Loss: 0.08 | Acc: 0.97 | Fixation Acc: 1.0 | Decision Acc: 0.9\n",
      "Iter: 1900 | Loss: 0.08 | Acc: 0.97 | Fixation Acc: 1.0 | Decision Acc: 0.9\n",
      "Iter: 2000 | Loss: 0.07 | Acc: 0.97 | Fixation Acc: 1.0 | Decision Acc: 0.9\n",
      "Iter: 2100 | Loss: 0.07 | Acc: 0.97 | Fixation Acc: 1.0 | Decision Acc: 0.91\n",
      "Iter: 2200 | Loss: 0.06 | Acc: 0.98 | Fixation Acc: 1.0 | Decision Acc: 0.92\n",
      "Iter: 2300 | Loss: 0.07 | Acc: 0.98 | Fixation Acc: 1.0 | Decision Acc: 0.93\n",
      "Iter: 2400 | Loss: 0.07 | Acc: 0.98 | Fixation Acc: 1.0 | Decision Acc: 0.92\n",
      "Iter: 2500 | Loss: 0.05 | Acc: 0.98 | Fixation Acc: 1.0 | Decision Acc: 0.94\n",
      "Iter: 2600 | Loss: 0.04 | Acc: 0.98 | Fixation Acc: 1.0 | Decision Acc: 0.94\n",
      "Iter: 2700 | Loss: 0.08 | Acc: 0.98 | Fixation Acc: 1.0 | Decision Acc: 0.92\n",
      "Iter: 2800 | Loss: 0.05 | Acc: 0.99 | Fixation Acc: 1.0 | Decision Acc: 0.95\n",
      "Iter: 2900 | Loss: 0.05 | Acc: 0.98 | Fixation Acc: 1.0 | Decision Acc: 0.94\n"
     ]
    }
   ],
   "source": [
    "# Train the model\n",
    "loss_list = []\n",
    "acc_list = []\n",
    "print('\\n=== TRAINING === \\n')\n",
    "for i in range(n_iterations):\n",
    "    inputs, labels, sample_dir, test_dir = stim.generate_trial()\n",
    "    metrics = supervised_train_step(rnn, opt, inputs, labels)\n",
    "    loss = round(float(metrics['loss']), 2)\n",
    "    acc = round(float(metrics['argmax_accuracy']), 2)\n",
    "    dec_acc = round(float(metrics['decision_accuracy']), 2)\n",
    "    fix_acc = round(float(metrics['fixation_accuracy']), 2)\n",
    "    loss_list.append(loss)\n",
    "    acc_list.append(acc)\n",
    "    if i%100==0:\n",
    "        print(f'Iter: {i} | Loss: {loss} | Acc: {acc} | Fixation Acc: {fix_acc} | Decision Acc: {dec_acc}')"
   ]
  },
  {
   "cell_type": "code",
   "execution_count": 12,
   "metadata": {},
   "outputs": [
    {
     "data": {
      "image/png": "[encoded data removed]",
      "text/plain": [
       "<Figure size 432x288 with 1 Axes>"
      ]
     },
     "metadata": {
      "needs_background": "light"
     },
     "output_type": "display_data"
    }
   ],
   "source": [
    "# Plot accuracies\n",
    "plt.plot(acc_list)\n",
    "plt.title('Training accuracy')\n",
    "plt.xlabel('Train steps')\n",
    "plt.show()"
   ]
  },
  {
   "cell_type": "code",
   "execution_count": 13,
   "metadata": {},
   "outputs": [
    {
     "data": {
      "image/png": "[encoded data removed]",
      "text/plain": [
       "<Figure size 432x288 with 1 Axes>"
      ]
     },
     "metadata": {
      "needs_background": "light"
     },
     "output_type": "display_data"
    }
   ],
   "source": [
    "# Plot loss\n",
    "plt.plot(loss_list)\n",
    "plt.title('Training loss')\n",
    "plt.xlabel('Train steps')\n",
    "plt.show()"
   ]
  },
  {
   "cell_type": "code",
   "execution_count": 11,
   "metadata": {},
   "outputs": [
    {
     "data": {
      "image/png": "[encoded data removed]",
      "text/plain": [
       "<Figure size 432x288 with 1 Axes>"
      ]
     },
     "metadata": {
      "needs_background": "light"
     },
     "output_type": "display_data"
    },
    {
     "data": {
      "image/png": "[encoded data removed]",
      "text/plain": [
       "<Figure size 432x288 with 1 Axes>"
      ]
     },
     "metadata": {
      "needs_background": "light"
     },
     "output_type": "display_data"
    },
    {
     "data": {
      "image/png": "[encoded data removed]",
      "text/plain": [
       "<Figure size 432x288 with 1 Axes>"
      ]
     },
     "metadata": {
      "needs_background": "light"
     },
     "output_type": "display_data"
    }
   ],
   "source": [
    "# Look at an example trial with the model's actions\n",
    "inputs, labels, sample_dir, test_dir = stim.generate_trial()\n",
    "results = rnn.do_trial(inputs)\n",
    "action_idxs = tf.math.argmax(results['outputs'], axis=-1) # (T, B)\n",
    "actions = tf.one_hot(action_idxs, output_size)\n",
    "\n",
    "b = np.random.randint(inputs.shape[1])\n",
    "\n",
    "# Inputs\n",
    "plt.imshow(inputs[:,b,:].T)\n",
    "plt.title('Inputs')\n",
    "plt.show()\n",
    "\n",
    "# Labels\n",
    "plt.imshow(labels[:,b,:].T, aspect=10.0)\n",
    "plt.title('Labels')\n",
    "plt.show()\n",
    "\n",
    "# Actions\n",
    "plt.imshow(actions[:,b,:].numpy().T, aspect=10.0)\n",
    "plt.title('Actions')\n",
    "plt.show()"
   ]
  },
  {
   "cell_type": "code",
   "execution_count": null,
   "metadata": {},
   "outputs": [],
   "source": []
  }
 ],
 "metadata": {
  "kernelspec": {
   "display_name": "low_rank_env",
   "language": "python",
   "name": "low_rank_env"
  },
  "language_info": {
   "codemirror_mode": {
    "name": "ipython",
    "version": 3
   },
   "file_extension": ".py",
   "mimetype": "text/x-python",
   "name": "python",
   "nbconvert_exporter": "python",
   "pygments_lexer": "ipython3",
   "version": "3.6.9"
  }
 },
 "nbformat": 4,
 "nbformat_minor": 4
}
